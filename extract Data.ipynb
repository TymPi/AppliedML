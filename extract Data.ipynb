{
 "cells": [
  {
   "cell_type": "code",
   "execution_count": 4,
   "id": "4486f25d",
   "metadata": {},
   "outputs": [],
   "source": [
    "import pandas as pd\n",
    "import sklearn as sk"
   ]
  },
  {
   "cell_type": "markdown",
   "id": "4ef2c2e8",
   "metadata": {},
   "source": [
    "### Turns colon seperated values to a dataframe"
   ]
  },
  {
   "cell_type": "code",
   "execution_count": 36,
   "id": "b9e2afdc",
   "metadata": {},
   "outputs": [],
   "source": [
    "red_wine_raw = pd.read_csv(\"./Data/winequality_red_raw.csv\")\n",
    "white_wine_raw = pd.read_csv(\"./Data/winequality_white_raw.csv\")\n",
    "\n",
    "red_wine_extracted = red_wine_raw.iloc[:,0].str.split(\";\", expand =True)\n",
    "red_wine_extracted.columns = red_wine_raw.columns[0].replace('\"', '').split(\";\")\n",
    "\n",
    "\n",
    "white_wine_extracted = white_wine_raw.iloc[:,0].str.split(\";\", expand =True)\n",
    "white_wine_extracted.columns = white_wine_raw.columns[0].replace('\"', '').split(\";\")\n",
    "\n"
   ]
  },
  {
   "cell_type": "code",
   "execution_count": 49,
   "id": "a2441107",
   "metadata": {},
   "outputs": [],
   "source": [
    "red_wine_extracted[\"Wine\"] = \"Red\"\n",
    "white_wine_extracted[\"Wine\"] = \"White\"\n",
    "wine_extracted = pd.concat([red_wine_extracted, white_wine_extracted]).reset_index(drop=True)"
   ]
  },
  {
   "cell_type": "code",
   "execution_count": 55,
   "id": "7db13dff",
   "metadata": {},
   "outputs": [],
   "source": [
    "wine_extracted.to_csv(\"./Data/wine_extracted.csv\", index = False)"
   ]
  }
 ],
 "metadata": {
  "kernelspec": {
   "display_name": "Python 3 (ipykernel)",
   "language": "python",
   "name": "python3"
  },
  "language_info": {
   "codemirror_mode": {
    "name": "ipython",
    "version": 3
   },
   "file_extension": ".py",
   "mimetype": "text/x-python",
   "name": "python",
   "nbconvert_exporter": "python",
   "pygments_lexer": "ipython3",
   "version": "3.8.6rc1"
  }
 },
 "nbformat": 4,
 "nbformat_minor": 5
}
