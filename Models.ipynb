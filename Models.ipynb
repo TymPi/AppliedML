{
 "cells": [
  {
   "cell_type": "code",
   "execution_count": 160,
   "id": "0dbb5279",
   "metadata": {},
   "outputs": [],
   "source": [
    "import pandas as pd\n",
    "import seaborn as sns\n",
    "import sklearn as sk\n",
    "import matplotlib.pyplot as plt\n",
    "\n",
    "from sklearn.model_selection import train_test_split \n",
    "from sklearn.svm import SVC\n",
    "from sklearn.metrics import accuracy_score, confusion_matrix, precision_score, recall_score, f1_score, classification_report\n",
    "from sklearn.ensemble import RandomForestClassifier\n",
    "\n",
    "from imblearn.over_sampling import SMOTE\n"
   ]
  },
  {
   "cell_type": "code",
   "execution_count": 170,
   "id": "8111b0d5",
   "metadata": {},
   "outputs": [],
   "source": [
    "wine_df = pd.read_csv(\"./Data/wine_extracted.csv\")\n",
    "wine_df = wine_df[wine_df.columns[-2:].append(wine_df.columns[:-2])]"
   ]
  },
  {
   "cell_type": "code",
   "execution_count": 182,
   "id": "4e661fa7",
   "metadata": {},
   "outputs": [],
   "source": [
    "wine_df = wine_df[wine_df[\"quality\"]!=9]\n",
    "wine_df = wine_df[wine_df[\"quality\"]!=3]\n",
    "wine_df = wine_df[wine_df[\"Wine\"]==\"White\"]\n",
    "#wine_df = wine_df[wine_df[\"quality\"]!=4]\n",
    "#wine_df = wine_df[wine_df[\"quality\"]!=8]"
   ]
  },
  {
   "cell_type": "code",
   "execution_count": 183,
   "id": "d9dcb112",
   "metadata": {},
   "outputs": [],
   "source": [
    "def print_metrics(true_val, pred_val):\n",
    "    print(\"The accuracy is \",accuracy_score(true_val, pred_val))\n",
    "    print(classification_report(true_val, pred_val))\n",
    "#     print(\"The precision is \",precision_score(true_val, pred_val, average = \"weighted\"))\n",
    "#     print(\"The recall is \",recall_score(true_val, pred_val, average = \"weighted\"))\n",
    "#     print(\"The f1_score is \",f1_score(true_val, pred_val, average = \"weighted\"))\n",
    "    print(\"The confusion matric is \")\n",
    "    print(confusion_matrix(true_val, pred_val))\n",
    "    "
   ]
  },
  {
   "cell_type": "markdown",
   "id": "d5f93fe1",
   "metadata": {},
   "source": [
    "## Smote Use"
   ]
  },
  {
   "cell_type": "code",
   "execution_count": 184,
   "id": "f01fd690",
   "metadata": {},
   "outputs": [],
   "source": [
    "sm = SMOTE()"
   ]
  },
  {
   "cell_type": "code",
   "execution_count": 194,
   "id": "de33c197",
   "metadata": {},
   "outputs": [
    {
     "data": {
      "text/plain": [
       "Index(['quality', 'Wine', 'fixed acidity', 'volatile acidity', 'citric acid',\n",
       "       'residual sugar', 'chlorides', 'free sulfur dioxide',\n",
       "       'total sulfur dioxide', 'density', 'pH', 'sulphates', 'alcohol'],\n",
       "      dtype='object')"
      ]
     },
     "execution_count": 194,
     "metadata": {},
     "output_type": "execute_result"
    }
   ],
   "source": [
    "wine_df.columns"
   ]
  },
  {
   "cell_type": "code",
   "execution_count": 195,
   "id": "2207e311",
   "metadata": {},
   "outputs": [],
   "source": [
    "wine_df_target = wine_df[\"quality\"]\n",
    "cols =['fixed acidity', 'volatile acidity', 'citric acid',\n",
    "       'residual sugar', 'chlorides', 'free sulfur dioxide',\n",
    "       'total sulfur dioxide', 'density', 'pH', 'sulphates', 'alcohol']"
   ]
  },
  {
   "cell_type": "code",
   "execution_count": 196,
   "id": "5d2f43c0",
   "metadata": {},
   "outputs": [],
   "source": [
    "train_df, test_df = train_test_split(wine_df)"
   ]
  },
  {
   "cell_type": "code",
   "execution_count": 197,
   "id": "288e2dd7",
   "metadata": {},
   "outputs": [],
   "source": [
    "test_df_target, test_df_feature = test_df[\"quality\"], test_df[cols]\n",
    "train_df_target, train_df_feature = train_df[\"quality\"], train_df[cols]"
   ]
  },
  {
   "cell_type": "code",
   "execution_count": 198,
   "id": "c303dc94",
   "metadata": {},
   "outputs": [],
   "source": [
    "train_df_feature, train_df_target = sm.fit_resample(train_df_feature,train_df_target)"
   ]
  },
  {
   "cell_type": "markdown",
   "id": "0a9dcffa",
   "metadata": {},
   "source": [
    "## SVC"
   ]
  },
  {
   "cell_type": "code",
   "execution_count": 191,
   "id": "b659a711",
   "metadata": {},
   "outputs": [],
   "source": [
    "svm_model = SVC(kernel = \"linear\")\n",
    "svm_model = svm_model.fit(train_df_feature, train_df_target)"
   ]
  },
  {
   "cell_type": "code",
   "execution_count": 192,
   "id": "9dd795d1",
   "metadata": {},
   "outputs": [
    {
     "name": "stdout",
     "output_type": "stream",
     "text": [
      "The accuracy is  0.3338802296964725\n",
      "              precision    recall  f1-score   support\n",
      "\n",
      "           4       0.09      0.33      0.14        36\n",
      "           5       0.47      0.59      0.52       346\n",
      "           6       0.58      0.22      0.32       569\n",
      "           7       0.29      0.14      0.19       223\n",
      "           8       0.10      0.69      0.17        45\n",
      "\n",
      "    accuracy                           0.33      1219\n",
      "   macro avg       0.31      0.40      0.27      1219\n",
      "weighted avg       0.46      0.33      0.34      1219\n",
      "\n",
      "The confusion matric is \n",
      "[[ 12  13   8   0   3]\n",
      " [ 53 205  41  18  29]\n",
      " [ 52 185 127  58 147]\n",
      " [ 12  31  37  32 111]\n",
      " [  1   4   6   3  31]]\n"
     ]
    }
   ],
   "source": [
    "print_metrics(test_df_target, svm_model.predict(test_df_feature))"
   ]
  },
  {
   "cell_type": "code",
   "execution_count": 193,
   "id": "9a9efceb",
   "metadata": {},
   "outputs": [
    {
     "data": {
      "text/plain": [
       "0.3338802296964725"
      ]
     },
     "execution_count": 193,
     "metadata": {},
     "output_type": "execute_result"
    }
   ],
   "source": [
    "accuracy_score(test_df_target,svm_model.predict(test_df_feature))"
   ]
  },
  {
   "cell_type": "code",
   "execution_count": 129,
   "id": "78ab31c2",
   "metadata": {},
   "outputs": [
    {
     "data": {
      "text/plain": [
       "array([[333, 193,   0],\n",
       "       [213, 494,   0],\n",
       "       [ 35, 246,   0]], dtype=int64)"
      ]
     },
     "execution_count": 129,
     "metadata": {},
     "output_type": "execute_result"
    }
   ],
   "source": [
    "confusion_matrix(test_df_target,svm_model.predict(test_df_feature))"
   ]
  },
  {
   "cell_type": "markdown",
   "id": "6a94f82a",
   "metadata": {},
   "source": [
    "## Random Forest"
   ]
  },
  {
   "cell_type": "code",
   "execution_count": 199,
   "id": "171d80df",
   "metadata": {},
   "outputs": [],
   "source": [
    "random_forest = RandomForestClassifier()\n",
    "random_forest = random_forest.fit(train_df_feature, train_df_target)"
   ]
  },
  {
   "cell_type": "code",
   "execution_count": 200,
   "id": "d557f8db",
   "metadata": {},
   "outputs": [
    {
     "name": "stdout",
     "output_type": "stream",
     "text": [
      "The accuracy is  0.6562756357670222\n",
      "              precision    recall  f1-score   support\n",
      "\n",
      "           4       0.34      0.51      0.41        41\n",
      "           5       0.72      0.69      0.70       386\n",
      "           6       0.73      0.66      0.69       548\n",
      "           7       0.56      0.64      0.60       190\n",
      "           8       0.39      0.52      0.45        54\n",
      "\n",
      "    accuracy                           0.66      1219\n",
      "   macro avg       0.55      0.61      0.57      1219\n",
      "weighted avg       0.67      0.66      0.66      1219\n",
      "\n",
      "The confusion matric is \n",
      "[[ 21  15   4   1   0]\n",
      " [ 25 267  78  12   4]\n",
      " [ 14  87 362  68  17]\n",
      " [  0   4  42 122  22]\n",
      " [  1   0   9  16  28]]\n"
     ]
    }
   ],
   "source": [
    "print_metrics(test_df_target, random_forest.predict(test_df_feature))"
   ]
  },
  {
   "cell_type": "code",
   "execution_count": 138,
   "id": "6e8efde4",
   "metadata": {},
   "outputs": [
    {
     "data": {
      "text/plain": [
       "0.6743725231175693"
      ]
     },
     "execution_count": 138,
     "metadata": {},
     "output_type": "execute_result"
    }
   ],
   "source": [
    "accuracy_score(test_df_target,random_forest.predict(test_df_feature))"
   ]
  },
  {
   "cell_type": "code",
   "execution_count": 139,
   "id": "e2fa4f55",
   "metadata": {},
   "outputs": [
    {
     "data": {
      "text/plain": [
       "array([[365, 138,  23],\n",
       "       [136, 464, 107],\n",
       "       [ 15,  74, 192]], dtype=int64)"
      ]
     },
     "execution_count": 139,
     "metadata": {},
     "output_type": "execute_result"
    }
   ],
   "source": [
    "confusion_matrix(test_df_target,random_forest.predict(test_df_feature))"
   ]
  }
 ],
 "metadata": {
  "kernelspec": {
   "display_name": "Python 3 (ipykernel)",
   "language": "python",
   "name": "python3"
  },
  "language_info": {
   "codemirror_mode": {
    "name": "ipython",
    "version": 3
   },
   "file_extension": ".py",
   "mimetype": "text/x-python",
   "name": "python",
   "nbconvert_exporter": "python",
   "pygments_lexer": "ipython3",
   "version": "3.8.6rc1"
  }
 },
 "nbformat": 4,
 "nbformat_minor": 5
}
