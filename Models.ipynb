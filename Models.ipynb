{
 "cells": [
  {
   "cell_type": "code",
   "execution_count": 397,
   "id": "0dbb5279",
   "metadata": {},
   "outputs": [],
   "source": [
    "import pandas as pd\n",
    "import seaborn as sns\n",
    "import sklearn as sk\n",
    "import matplotlib.pyplot as plt\n",
    "import numpy as np\n",
    "\n",
    "from sklearn.model_selection import train_test_split, KFold\n",
    "from sklearn.svm import SVC\n",
    "from sklearn.metrics import accuracy_score, confusion_matrix, classification_report,roc_auc_score, plot_confusion_matrix\n",
    "from sklearn.ensemble import RandomForestClassifier, AdaBoostClassifier\n",
    "from sklearn.preprocessing import StandardScaler\n",
    "from sklearn.neighbors import KNeighborsClassifier\n",
    "\n",
    "from imblearn.over_sampling import SMOTE\n"
   ]
  },
  {
   "cell_type": "markdown",
   "id": "29eee08a",
   "metadata": {},
   "source": [
    "## Data Set Up"
   ]
  },
  {
   "cell_type": "code",
   "execution_count": 438,
   "id": "8111b0d5",
   "metadata": {},
   "outputs": [],
   "source": [
    "#gets the data\n",
    "wine_df = pd.read_csv(\"./Data/wine_extracted.csv\")\n",
    "wine_df = wine_df[wine_df.columns[-2:].append(wine_df.columns[:-2])]\n",
    "\n",
    "#changes the red wine to 1 and white wine to 0\n",
    "wine_df.loc[wine_df[\"Wine\"]==\"Red\", \"Wine\" ] = 1\n",
    "wine_df.loc[wine_df[\"Wine\"]==\"White\", \"Wine\" ] = 0"
   ]
  },
  {
   "cell_type": "code",
   "execution_count": 439,
   "id": "53d373a8",
   "metadata": {},
   "outputs": [],
   "source": [
    "#reclassifissed the data to have 5 classes of <=5, 6, >=7\n",
    "wine_df.loc[wine_df[\"quality\"]==3, \"quality\"] = \"<=5\"\n",
    "wine_df.loc[wine_df[\"quality\"]==4, \"quality\"] = \"<=5\"\n",
    "wine_df.loc[wine_df[\"quality\"]==5, \"quality\"] = \"<=5\"\n",
    "\n",
    "wine_df.loc[wine_df[\"quality\"]==7,\"quality\"] = \">=7\"\n",
    "wine_df.loc[wine_df[\"quality\"]==8,\"quality\"] = \">=7\"\n",
    "wine_df.loc[wine_df[\"quality\"]==9,\"quality\"] = \">=7\""
   ]
  },
  {
   "cell_type": "code",
   "execution_count": 420,
   "id": "d9dcb112",
   "metadata": {},
   "outputs": [],
   "source": [
    "#prints key evalutaiton metrics\n",
    "def print_metrics(true_val, pred_val):\n",
    "    print(\"The accuracy is \",accuracy_score(true_val, pred_val))\n",
    "    print(classification_report(true_val, pred_val))\n",
    "    print(\"The confusion matrix is \")\n",
    "    print(confusion_matrix(true_val, pred_val))\n",
    "    "
   ]
  },
  {
   "cell_type": "code",
   "execution_count": 421,
   "id": "f4ad0a3f",
   "metadata": {},
   "outputs": [],
   "source": [
    "#prints Area under curve\n",
    "def print_auc(true_val, pred_val):\n",
    "    print(\"The AUC score is\", roc_auc_score(true_val, pred_val, multi_class='ovr'))"
   ]
  },
  {
   "cell_type": "markdown",
   "id": "d5f93fe1",
   "metadata": {},
   "source": [
    "## Train/Test split, Standardisation and SMOTE Oversampling"
   ]
  },
  {
   "cell_type": "code",
   "execution_count": 440,
   "id": "b26e51e0",
   "metadata": {},
   "outputs": [
    {
     "data": {
      "text/html": [
       "<div>\n",
       "<style scoped>\n",
       "    .dataframe tbody tr th:only-of-type {\n",
       "        vertical-align: middle;\n",
       "    }\n",
       "\n",
       "    .dataframe tbody tr th {\n",
       "        vertical-align: top;\n",
       "    }\n",
       "\n",
       "    .dataframe thead th {\n",
       "        text-align: right;\n",
       "    }\n",
       "</style>\n",
       "<table border=\"1\" class=\"dataframe\">\n",
       "  <thead>\n",
       "    <tr style=\"text-align: right;\">\n",
       "      <th></th>\n",
       "      <th>Wine</th>\n",
       "      <th>fixed acidity</th>\n",
       "      <th>volatile acidity</th>\n",
       "      <th>citric acid</th>\n",
       "      <th>residual sugar</th>\n",
       "      <th>chlorides</th>\n",
       "      <th>free sulfur dioxide</th>\n",
       "      <th>total sulfur dioxide</th>\n",
       "      <th>density</th>\n",
       "      <th>pH</th>\n",
       "      <th>sulphates</th>\n",
       "      <th>alcohol</th>\n",
       "    </tr>\n",
       "  </thead>\n",
       "  <tbody>\n",
       "    <tr>\n",
       "      <th>0</th>\n",
       "      <td>1</td>\n",
       "      <td>7.4</td>\n",
       "      <td>0.70</td>\n",
       "      <td>0.00</td>\n",
       "      <td>1.9</td>\n",
       "      <td>0.076</td>\n",
       "      <td>11.0</td>\n",
       "      <td>34.0</td>\n",
       "      <td>0.9978</td>\n",
       "      <td>3.51</td>\n",
       "      <td>0.56</td>\n",
       "      <td>9.4</td>\n",
       "    </tr>\n",
       "    <tr>\n",
       "      <th>1</th>\n",
       "      <td>1</td>\n",
       "      <td>7.8</td>\n",
       "      <td>0.88</td>\n",
       "      <td>0.00</td>\n",
       "      <td>2.6</td>\n",
       "      <td>0.098</td>\n",
       "      <td>25.0</td>\n",
       "      <td>67.0</td>\n",
       "      <td>0.9968</td>\n",
       "      <td>3.20</td>\n",
       "      <td>0.68</td>\n",
       "      <td>9.8</td>\n",
       "    </tr>\n",
       "    <tr>\n",
       "      <th>2</th>\n",
       "      <td>1</td>\n",
       "      <td>7.8</td>\n",
       "      <td>0.76</td>\n",
       "      <td>0.04</td>\n",
       "      <td>2.3</td>\n",
       "      <td>0.092</td>\n",
       "      <td>15.0</td>\n",
       "      <td>54.0</td>\n",
       "      <td>0.9970</td>\n",
       "      <td>3.26</td>\n",
       "      <td>0.65</td>\n",
       "      <td>9.8</td>\n",
       "    </tr>\n",
       "    <tr>\n",
       "      <th>3</th>\n",
       "      <td>1</td>\n",
       "      <td>11.2</td>\n",
       "      <td>0.28</td>\n",
       "      <td>0.56</td>\n",
       "      <td>1.9</td>\n",
       "      <td>0.075</td>\n",
       "      <td>17.0</td>\n",
       "      <td>60.0</td>\n",
       "      <td>0.9980</td>\n",
       "      <td>3.16</td>\n",
       "      <td>0.58</td>\n",
       "      <td>9.8</td>\n",
       "    </tr>\n",
       "    <tr>\n",
       "      <th>4</th>\n",
       "      <td>1</td>\n",
       "      <td>7.4</td>\n",
       "      <td>0.70</td>\n",
       "      <td>0.00</td>\n",
       "      <td>1.9</td>\n",
       "      <td>0.076</td>\n",
       "      <td>11.0</td>\n",
       "      <td>34.0</td>\n",
       "      <td>0.9978</td>\n",
       "      <td>3.51</td>\n",
       "      <td>0.56</td>\n",
       "      <td>9.4</td>\n",
       "    </tr>\n",
       "  </tbody>\n",
       "</table>\n",
       "</div>"
      ],
      "text/plain": [
       "  Wine  fixed acidity  volatile acidity  citric acid  residual sugar  \\\n",
       "0    1            7.4              0.70         0.00             1.9   \n",
       "1    1            7.8              0.88         0.00             2.6   \n",
       "2    1            7.8              0.76         0.04             2.3   \n",
       "3    1           11.2              0.28         0.56             1.9   \n",
       "4    1            7.4              0.70         0.00             1.9   \n",
       "\n",
       "   chlorides  free sulfur dioxide  total sulfur dioxide  density    pH  \\\n",
       "0      0.076                 11.0                  34.0   0.9978  3.51   \n",
       "1      0.098                 25.0                  67.0   0.9968  3.20   \n",
       "2      0.092                 15.0                  54.0   0.9970  3.26   \n",
       "3      0.075                 17.0                  60.0   0.9980  3.16   \n",
       "4      0.076                 11.0                  34.0   0.9978  3.51   \n",
       "\n",
       "   sulphates  alcohol  \n",
       "0       0.56      9.4  \n",
       "1       0.68      9.8  \n",
       "2       0.65      9.8  \n",
       "3       0.58      9.8  \n",
       "4       0.56      9.4  "
      ]
     },
     "execution_count": 440,
     "metadata": {},
     "output_type": "execute_result"
    }
   ],
   "source": [
    "#splitting data into attributes and target\n",
    "cols = wine_df.columns\n",
    "\n",
    "X = wine_df[cols[1:]]\n",
    "Y = wine_df[\"quality\"].astype('str')\n",
    "\n",
    "X.head()"
   ]
  },
  {
   "cell_type": "code",
   "execution_count": 441,
   "id": "25eb2dfa",
   "metadata": {},
   "outputs": [
    {
     "data": {
      "text/html": [
       "<div>\n",
       "<style scoped>\n",
       "    .dataframe tbody tr th:only-of-type {\n",
       "        vertical-align: middle;\n",
       "    }\n",
       "\n",
       "    .dataframe tbody tr th {\n",
       "        vertical-align: top;\n",
       "    }\n",
       "\n",
       "    .dataframe thead th {\n",
       "        text-align: right;\n",
       "    }\n",
       "</style>\n",
       "<table border=\"1\" class=\"dataframe\">\n",
       "  <thead>\n",
       "    <tr style=\"text-align: right;\">\n",
       "      <th></th>\n",
       "      <th>Wine</th>\n",
       "      <th>fixed acidity</th>\n",
       "      <th>volatile acidity</th>\n",
       "      <th>citric acid</th>\n",
       "      <th>residual sugar</th>\n",
       "      <th>chlorides</th>\n",
       "      <th>free sulfur dioxide</th>\n",
       "      <th>total sulfur dioxide</th>\n",
       "      <th>density</th>\n",
       "      <th>pH</th>\n",
       "      <th>sulphates</th>\n",
       "      <th>alcohol</th>\n",
       "    </tr>\n",
       "  </thead>\n",
       "  <tbody>\n",
       "    <tr>\n",
       "      <th>0</th>\n",
       "      <td>1</td>\n",
       "      <td>0.142473</td>\n",
       "      <td>2.188833</td>\n",
       "      <td>-2.192833</td>\n",
       "      <td>-0.744778</td>\n",
       "      <td>0.569958</td>\n",
       "      <td>-1.100140</td>\n",
       "      <td>-1.446359</td>\n",
       "      <td>1.034993</td>\n",
       "      <td>1.813090</td>\n",
       "      <td>0.193097</td>\n",
       "      <td>-0.915464</td>\n",
       "    </tr>\n",
       "    <tr>\n",
       "      <th>1</th>\n",
       "      <td>1</td>\n",
       "      <td>0.451036</td>\n",
       "      <td>3.282235</td>\n",
       "      <td>-2.192833</td>\n",
       "      <td>-0.597640</td>\n",
       "      <td>1.197975</td>\n",
       "      <td>-0.311320</td>\n",
       "      <td>-0.862469</td>\n",
       "      <td>0.701486</td>\n",
       "      <td>-0.115073</td>\n",
       "      <td>0.999579</td>\n",
       "      <td>-0.580068</td>\n",
       "    </tr>\n",
       "    <tr>\n",
       "      <th>2</th>\n",
       "      <td>1</td>\n",
       "      <td>0.451036</td>\n",
       "      <td>2.553300</td>\n",
       "      <td>-1.917553</td>\n",
       "      <td>-0.660699</td>\n",
       "      <td>1.026697</td>\n",
       "      <td>-0.874763</td>\n",
       "      <td>-1.092486</td>\n",
       "      <td>0.768188</td>\n",
       "      <td>0.258120</td>\n",
       "      <td>0.797958</td>\n",
       "      <td>-0.580068</td>\n",
       "    </tr>\n",
       "    <tr>\n",
       "      <th>3</th>\n",
       "      <td>1</td>\n",
       "      <td>3.073817</td>\n",
       "      <td>-0.362438</td>\n",
       "      <td>1.661085</td>\n",
       "      <td>-0.744778</td>\n",
       "      <td>0.541412</td>\n",
       "      <td>-0.762074</td>\n",
       "      <td>-0.986324</td>\n",
       "      <td>1.101694</td>\n",
       "      <td>-0.363868</td>\n",
       "      <td>0.327510</td>\n",
       "      <td>-0.580068</td>\n",
       "    </tr>\n",
       "    <tr>\n",
       "      <th>4</th>\n",
       "      <td>1</td>\n",
       "      <td>0.142473</td>\n",
       "      <td>2.188833</td>\n",
       "      <td>-2.192833</td>\n",
       "      <td>-0.744778</td>\n",
       "      <td>0.569958</td>\n",
       "      <td>-1.100140</td>\n",
       "      <td>-1.446359</td>\n",
       "      <td>1.034993</td>\n",
       "      <td>1.813090</td>\n",
       "      <td>0.193097</td>\n",
       "      <td>-0.915464</td>\n",
       "    </tr>\n",
       "  </tbody>\n",
       "</table>\n",
       "</div>"
      ],
      "text/plain": [
       "  Wine  fixed acidity  volatile acidity  citric acid  residual sugar  \\\n",
       "0    1       0.142473          2.188833    -2.192833       -0.744778   \n",
       "1    1       0.451036          3.282235    -2.192833       -0.597640   \n",
       "2    1       0.451036          2.553300    -1.917553       -0.660699   \n",
       "3    1       3.073817         -0.362438     1.661085       -0.744778   \n",
       "4    1       0.142473          2.188833    -2.192833       -0.744778   \n",
       "\n",
       "   chlorides  free sulfur dioxide  total sulfur dioxide   density        pH  \\\n",
       "0   0.569958            -1.100140             -1.446359  1.034993  1.813090   \n",
       "1   1.197975            -0.311320             -0.862469  0.701486 -0.115073   \n",
       "2   1.026697            -0.874763             -1.092486  0.768188  0.258120   \n",
       "3   0.541412            -0.762074             -0.986324  1.101694 -0.363868   \n",
       "4   0.569958            -1.100140             -1.446359  1.034993  1.813090   \n",
       "\n",
       "   sulphates   alcohol  \n",
       "0   0.193097 -0.915464  \n",
       "1   0.999579 -0.580068  \n",
       "2   0.797958 -0.580068  \n",
       "3   0.327510 -0.580068  \n",
       "4   0.193097 -0.915464  "
      ]
     },
     "execution_count": 441,
     "metadata": {},
     "output_type": "execute_result"
    }
   ],
   "source": [
    "#standardisation\n",
    "\n",
    "#standard scaler is chosen\n",
    "scaler = StandardScaler()\n",
    "\n",
    "#the scaler is fit and transforms the X and converted back to a data frame\n",
    "standard_X = pd.DataFrame(data = scaler.fit_transform(X))\n",
    "standard_X.columns = X.columns\n",
    "\n",
    "#chanegs back the wine attribute as it is boolean\n",
    "standard_X[\"Wine\"] = X[\"Wine\"]\n",
    "\n",
    "standard_X.head()"
   ]
  },
  {
   "cell_type": "code",
   "execution_count": 446,
   "id": "f95df5d7",
   "metadata": {},
   "outputs": [
    {
     "name": "stdout",
     "output_type": "stream",
     "text": [
      "Train size:  (5197, 12)\n",
      "Test size:  (1300, 12)\n"
     ]
    }
   ],
   "source": [
    "#data is plit into trainging and test data sets \n",
    "train_X,test_X,train_Y,test_Y =  train_test_split(standard_X, Y, test_size = 0.2, random_state = 42)\n",
    "\n",
    "print(\"Train size: \",train_X.shape)\n",
    "print(\"Test size: \",test_X.shape)"
   ]
  },
  {
   "cell_type": "code",
   "execution_count": 447,
   "id": "f01fd690",
   "metadata": {},
   "outputs": [
    {
     "data": {
      "text/plain": [
       "<=5    2239\n",
       ">=7    2239\n",
       "6      2239\n",
       "Name: quality, dtype: int64"
      ]
     },
     "execution_count": 447,
     "metadata": {},
     "output_type": "execute_result"
    }
   ],
   "source": [
    "\n",
    "#Oversampling\n",
    "sm = SMOTE(random_state=42)\n",
    "train_X_smote, train_Y_smote =sm.fit_resample(train_X, train_Y)\n",
    "train_Y_smote.value_counts()"
   ]
  },
  {
   "cell_type": "markdown",
   "id": "0a9dcffa",
   "metadata": {},
   "source": [
    "## Support Vector Machine Classifier"
   ]
  },
  {
   "cell_type": "code",
   "execution_count": 237,
   "id": "b659a711",
   "metadata": {},
   "outputs": [],
   "source": [
    "#SVM is intiatied and fitted\n",
    "svm_model = SVC(kernel = \"poly\", probability = True, random_state = 42)\n",
    "svm_model = svm_model.fit(train_X_smote, train_Y_smote)"
   ]
  },
  {
   "cell_type": "code",
   "execution_count": 314,
   "id": "9dd795d1",
   "metadata": {},
   "outputs": [
    {
     "name": "stdout",
     "output_type": "stream",
     "text": [
      "The accuracy is  0.5769230769230769\n",
      "              precision    recall  f1-score   support\n",
      "\n",
      "           6       0.58      0.52      0.55       597\n",
      "         <=5       0.63      0.64      0.63       451\n",
      "         >=7       0.49      0.60      0.54       252\n",
      "\n",
      "    accuracy                           0.58      1300\n",
      "   macro avg       0.57      0.59      0.57      1300\n",
      "weighted avg       0.58      0.58      0.58      1300\n",
      "\n",
      "The confusion matrix is \n",
      "[[310 166 121]\n",
      " [128 290  33]\n",
      " [ 95   7 150]]\n",
      "The AUC score is 0.7523022415124592\n"
     ]
    }
   ],
   "source": [
    "#predicts the \n",
    "print_metrics(test_Y, svm_model.predict(test_X))\n",
    "print_auc(test_Y, svm_model.predict_proba(test_X))#warning this is very slow and might not be accurate to the actual prob_a as stated in the sklearn"
   ]
  },
  {
   "cell_type": "markdown",
   "id": "6a94f82a",
   "metadata": {},
   "source": [
    "## Random Forest"
   ]
  },
  {
   "cell_type": "code",
   "execution_count": 444,
   "id": "171d80df",
   "metadata": {},
   "outputs": [],
   "source": [
    "#intiate random forest\n",
    "random_forest = RandomForestClassifier(n_estimators = 100, max_features = 3, max_depth = 20, bootstrap = False, random_state = 42)\n",
    "random_forest = random_forest.fit(train_X_smote, train_Y_smote)"
   ]
  },
  {
   "cell_type": "code",
   "execution_count": 445,
   "id": "d557f8db",
   "metadata": {},
   "outputs": [
    {
     "name": "stdout",
     "output_type": "stream",
     "text": [
      "The accuracy is  0.7123076923076923\n",
      "              precision    recall  f1-score   support\n",
      "\n",
      "           6       0.67      0.69      0.68       549\n",
      "         <=5       0.79      0.76      0.77       473\n",
      "         >=7       0.68      0.68      0.68       278\n",
      "\n",
      "    accuracy                           0.71      1300\n",
      "   macro avg       0.71      0.71      0.71      1300\n",
      "weighted avg       0.71      0.71      0.71      1300\n",
      "\n",
      "The confusion matrix is \n",
      "[[379  88  82]\n",
      " [107 359   7]\n",
      " [ 81   9 188]]\n",
      "The AUC score is 0.8823457322096698\n"
     ]
    }
   ],
   "source": [
    "#print metrics\n",
    "print_metrics(test_Y, random_forest.predict(test_X))\n",
    "print_auc(test_Y, random_forest.predict_proba(test_X))"
   ]
  },
  {
   "cell_type": "markdown",
   "id": "f1370263",
   "metadata": {},
   "source": [
    "## KNN"
   ]
  },
  {
   "cell_type": "code",
   "execution_count": 395,
   "id": "bc758f35",
   "metadata": {},
   "outputs": [],
   "source": [
    "#intiates KNN\n",
    "knn = KNeighborsClassifier(n_neighbors = 4, metric = \"manhattan\")\n",
    "knn = knn.fit(train_X_smote, train_Y_smote)"
   ]
  },
  {
   "cell_type": "code",
   "execution_count": 389,
   "id": "2af43218",
   "metadata": {},
   "outputs": [
    {
     "name": "stdout",
     "output_type": "stream",
     "text": [
      "The accuracy is  0.6153846153846154\n",
      "              precision    recall  f1-score   support\n",
      "\n",
      "           6       0.62      0.61      0.62       597\n",
      "         <=5       0.67      0.61      0.64       451\n",
      "         >=7       0.53      0.63      0.58       252\n",
      "\n",
      "    accuracy                           0.62      1300\n",
      "   macro avg       0.61      0.62      0.61      1300\n",
      "weighted avg       0.62      0.62      0.62      1300\n",
      "\n",
      "The confusion matrix is \n",
      "[[365 122 110]\n",
      " [146 277  28]\n",
      " [ 78  16 158]]\n",
      "The AUC score is 0.7855528334663403\n"
     ]
    }
   ],
   "source": [
    "#prints metrics\n",
    "print_metrics(test_Y, knn.predict(test_X))\n",
    "print_auc(test_Y, knn.predict_proba(test_X))"
   ]
  },
  {
   "cell_type": "markdown",
   "id": "cf166039",
   "metadata": {},
   "source": [
    "## AdaBoost"
   ]
  },
  {
   "cell_type": "code",
   "execution_count": 394,
   "id": "be360b32",
   "metadata": {},
   "outputs": [],
   "source": [
    "#intiates AdaBoost\n",
    "ada = AdaBoostClassifier(n_estimators =100, learning_rate= 0.8, random_state = 42)\n",
    "ada = ada.fit(train_X_smote, train_Y_smote)"
   ]
  },
  {
   "cell_type": "code",
   "execution_count": 391,
   "id": "157d5837",
   "metadata": {},
   "outputs": [
    {
     "name": "stdout",
     "output_type": "stream",
     "text": [
      "The accuracy is  0.57\n",
      "              precision    recall  f1-score   support\n",
      "\n",
      "           6       0.63      0.41      0.50       597\n",
      "         <=5       0.59      0.70      0.64       451\n",
      "         >=7       0.48      0.70      0.57       252\n",
      "\n",
      "    accuracy                           0.57      1300\n",
      "   macro avg       0.57      0.61      0.57      1300\n",
      "weighted avg       0.59      0.57      0.56      1300\n",
      "\n",
      "The confusion matrix is \n",
      "[[247 203 147]\n",
      " [ 91 317  43]\n",
      " [ 56  19 177]]\n",
      "The AUC score is 0.7082742299218169\n"
     ]
    }
   ],
   "source": [
    "#print metrics\n",
    "print_metrics(test_Y, ada.predict(test_X))\n",
    "print_auc(test_Y, ada.predict_proba(test_X))"
   ]
  },
  {
   "cell_type": "markdown",
   "id": "e5be33e7",
   "metadata": {},
   "source": [
    "## Plot confusion matrices"
   ]
  },
  {
   "cell_type": "code",
   "execution_count": 341,
   "id": "6c1c140a",
   "metadata": {},
   "outputs": [
    {
     "name": "stderr",
     "output_type": "stream",
     "text": [
      "c:\\users\\user\\desktop\\uni\\appml\\codebase\\appliedml\\project_appml\\lib\\site-packages\\sklearn\\utils\\deprecation.py:87: FutureWarning: Function plot_confusion_matrix is deprecated; Function `plot_confusion_matrix` is deprecated in 1.0 and will be removed in 1.2. Use one of the class methods: ConfusionMatrixDisplay.from_predictions or ConfusionMatrixDisplay.from_estimator.\n",
      "  warnings.warn(msg, category=FutureWarning)\n",
      "c:\\users\\user\\desktop\\uni\\appml\\codebase\\appliedml\\project_appml\\lib\\site-packages\\sklearn\\utils\\deprecation.py:87: FutureWarning: Function plot_confusion_matrix is deprecated; Function `plot_confusion_matrix` is deprecated in 1.0 and will be removed in 1.2. Use one of the class methods: ConfusionMatrixDisplay.from_predictions or ConfusionMatrixDisplay.from_estimator.\n",
      "  warnings.warn(msg, category=FutureWarning)\n",
      "c:\\users\\user\\desktop\\uni\\appml\\codebase\\appliedml\\project_appml\\lib\\site-packages\\sklearn\\utils\\deprecation.py:87: FutureWarning: Function plot_confusion_matrix is deprecated; Function `plot_confusion_matrix` is deprecated in 1.0 and will be removed in 1.2. Use one of the class methods: ConfusionMatrixDisplay.from_predictions or ConfusionMatrixDisplay.from_estimator.\n",
      "  warnings.warn(msg, category=FutureWarning)\n"
     ]
    },
    {
     "data": {
      "text/plain": [
       "<sklearn.metrics._plot.confusion_matrix.ConfusionMatrixDisplay at 0x22f23a1cca0>"
      ]
     },
     "execution_count": 341,
     "metadata": {},
     "output_type": "execute_result"
    },
    {
     "data": {
      "image/png": "[encoded data removed]",
      "text/plain": [
       "<Figure size 432x288 with 2 Axes>"
      ]
     },
     "metadata": {
      "needs_background": "light"
     },
     "output_type": "display_data"
    },
    {
     "data": {
      "image/png": "[encoded data removed]",
      "text/plain": [
       "<Figure size 432x288 with 2 Axes>"
      ]
     },
     "metadata": {
      "needs_background": "light"
     },
     "output_type": "display_data"
    },
    {
     "data": {
      "image/png": "[encoded data removed]",
      "text/plain": [
       "<Figure size 432x288 with 2 Axes>"
      ]
     },
     "metadata": {
      "needs_background": "light"
     },
     "output_type": "display_data"
    },
    {
     "data": {
      "image/png": "[encoded data removed]",
      "text/plain": [
       "<Figure size 432x288 with 2 Axes>"
      ]
     },
     "metadata": {
      "needs_background": "light"
     },
     "output_type": "display_data"
    }
   ],
   "source": [
    "#creates intial confusion matrices for all 4 classifiers\n",
    "plot_confusion_matrix(svm_model, test_X, test_Y, labels = [\"<=5\", \"6\", \">=7\"], cmap = \"summer\")\n",
    "plot_confusion_matrix(random_forest, test_X, test_Y, labels = [\"<=5\", \"6\", \">=7\"], cmap = \"summer\") \n",
    "plot_confusion_matrix(knn, test_X, test_Y, labels = [\"<=5\", \"6\", \">=7\"], cmap = \"summer\") \n",
    "plot_confusion_matrix(ada, test_X, test_Y, labels = [\"<=5\", \"6\", \">=7\"], cmap = \"summer\") "
   ]
  },
  {
   "cell_type": "markdown",
   "id": "ca7c85f4",
   "metadata": {},
   "source": [
    "## Model K-fold evaluation"
   ]
  },
  {
   "cell_type": "code",
   "execution_count": 459,
   "id": "56bdbdbc",
   "metadata": {},
   "outputs": [],
   "source": [
    "def k_fold_eval(classifier, svm=False):   \n",
    "    \n",
    "    #intiates kfold with 5 splits\n",
    "    kf = KFold(n_splits=5, random_state = 42, shuffle =True)\n",
    "    accuracy_test = []\n",
    "    auc_test = []\n",
    "    accuracy_train = []\n",
    "    auc_train = []\n",
    "\n",
    "    #goes through eahc split\n",
    "    for train_index, test_index in kf.split(standard_X):\n",
    "        cl = classifier\n",
    "        \n",
    "        #data is split into train and test and uesed Smote\n",
    "        train_X, test_X = standard_X.iloc[train_index,:], standard_X.iloc[test_index,:]\n",
    "        train_Y, test_Y = Y[train_index], Y[test_index]\n",
    "        train_X_smote, train_Y_smote =sm.fit_resample(train_X, train_Y)\n",
    "        \n",
    "        #model is trained\n",
    "        cl =cl.fit(train_X_smote, train_Y_smote)\n",
    "        \n",
    "        #accuracy is added for the fold\n",
    "        accuracy_test.append(accuracy_score(test_Y, cl.predict(test_X)))\n",
    "        accuracy_train.append(accuracy_score(train_Y, cl.predict(train_X)))\n",
    "        \n",
    "        #as svm proba is unreliable and inefficient it is skipped\n",
    "        if svm:\n",
    "            auc_test.append(None)\n",
    "            auc_train.append(None)\n",
    "        else:\n",
    "        \n",
    "            auc_test.append(roc_auc_score(test_Y, cl.predict_proba(test_X), multi_class='ovr'))\n",
    "            auc_train.append(roc_auc_score(train_Y, cl.predict_proba(train_X), multi_class='ovr'))\n",
    "        \n",
    "        \n",
    "    #returns a data frame of accuracies and AUC\n",
    "    return(pd.DataFrame(data ={\"test accuracy\" : accuracy_test, \"test AUC\" :auc_test, \"train accuracy\": accuracy_train,\n",
    "                               \"train AUC\": auc_train} ))"
   ]
  },
  {
   "cell_type": "code",
   "execution_count": 455,
   "id": "df19eb87",
   "metadata": {},
   "outputs": [],
   "source": [
    "#runs Kfold on randomforest\n",
    "randomForest = k_fold_eval(RandomForestClassifier(n_estimators = 100, max_features = 3, max_depth = 20, bootstrap = False, random_state = 42))"
   ]
  },
  {
   "cell_type": "code",
   "execution_count": 456,
   "id": "3bb0db29",
   "metadata": {},
   "outputs": [
    {
     "data": {
      "text/html": [
       "<div>\n",
       "<style scoped>\n",
       "    .dataframe tbody tr th:only-of-type {\n",
       "        vertical-align: middle;\n",
       "    }\n",
       "\n",
       "    .dataframe tbody tr th {\n",
       "        vertical-align: top;\n",
       "    }\n",
       "\n",
       "    .dataframe thead th {\n",
       "        text-align: right;\n",
       "    }\n",
       "</style>\n",
       "<table border=\"1\" class=\"dataframe\">\n",
       "  <thead>\n",
       "    <tr style=\"text-align: right;\">\n",
       "      <th></th>\n",
       "      <th>test accuracy</th>\n",
       "      <th>test AUC</th>\n",
       "      <th>train accuracy</th>\n",
       "      <th>train AUC</th>\n",
       "    </tr>\n",
       "  </thead>\n",
       "  <tbody>\n",
       "    <tr>\n",
       "      <th>0</th>\n",
       "      <td>0.707692</td>\n",
       "      <td>0.880970</td>\n",
       "      <td>0.999808</td>\n",
       "      <td>1.0</td>\n",
       "    </tr>\n",
       "    <tr>\n",
       "      <th>1</th>\n",
       "      <td>0.713846</td>\n",
       "      <td>0.880279</td>\n",
       "      <td>1.000000</td>\n",
       "      <td>1.0</td>\n",
       "    </tr>\n",
       "    <tr>\n",
       "      <th>2</th>\n",
       "      <td>0.732871</td>\n",
       "      <td>0.894221</td>\n",
       "      <td>1.000000</td>\n",
       "      <td>1.0</td>\n",
       "    </tr>\n",
       "    <tr>\n",
       "      <th>3</th>\n",
       "      <td>0.728253</td>\n",
       "      <td>0.890025</td>\n",
       "      <td>1.000000</td>\n",
       "      <td>1.0</td>\n",
       "    </tr>\n",
       "    <tr>\n",
       "      <th>4</th>\n",
       "      <td>0.715935</td>\n",
       "      <td>0.890022</td>\n",
       "      <td>0.999808</td>\n",
       "      <td>1.0</td>\n",
       "    </tr>\n",
       "  </tbody>\n",
       "</table>\n",
       "</div>"
      ],
      "text/plain": [
       "   test accuracy  test AUC  train accuracy  train AUC\n",
       "0       0.707692  0.880970        0.999808        1.0\n",
       "1       0.713846  0.880279        1.000000        1.0\n",
       "2       0.732871  0.894221        1.000000        1.0\n",
       "3       0.728253  0.890025        1.000000        1.0\n",
       "4       0.715935  0.890022        0.999808        1.0"
      ]
     },
     "execution_count": 456,
     "metadata": {},
     "output_type": "execute_result"
    }
   ],
   "source": [
    "randomForest"
   ]
  },
  {
   "cell_type": "code",
   "execution_count": 457,
   "id": "3bfc6366",
   "metadata": {},
   "outputs": [
    {
     "data": {
      "text/html": [
       "<div>\n",
       "<style scoped>\n",
       "    .dataframe tbody tr th:only-of-type {\n",
       "        vertical-align: middle;\n",
       "    }\n",
       "\n",
       "    .dataframe tbody tr th {\n",
       "        vertical-align: top;\n",
       "    }\n",
       "\n",
       "    .dataframe thead th {\n",
       "        text-align: right;\n",
       "    }\n",
       "</style>\n",
       "<table border=\"1\" class=\"dataframe\">\n",
       "  <thead>\n",
       "    <tr style=\"text-align: right;\">\n",
       "      <th></th>\n",
       "      <th>test accuracy</th>\n",
       "      <th>test AUC</th>\n",
       "      <th>train accuracy</th>\n",
       "      <th>train AUC</th>\n",
       "    </tr>\n",
       "  </thead>\n",
       "  <tbody>\n",
       "    <tr>\n",
       "      <th>0</th>\n",
       "      <td>0.610000</td>\n",
       "      <td>0.777132</td>\n",
       "      <td>0.801616</td>\n",
       "      <td>0.940811</td>\n",
       "    </tr>\n",
       "    <tr>\n",
       "      <th>1</th>\n",
       "      <td>0.604615</td>\n",
       "      <td>0.782135</td>\n",
       "      <td>0.794497</td>\n",
       "      <td>0.940638</td>\n",
       "    </tr>\n",
       "    <tr>\n",
       "      <th>2</th>\n",
       "      <td>0.609700</td>\n",
       "      <td>0.774742</td>\n",
       "      <td>0.802424</td>\n",
       "      <td>0.942799</td>\n",
       "    </tr>\n",
       "    <tr>\n",
       "      <th>3</th>\n",
       "      <td>0.604311</td>\n",
       "      <td>0.783039</td>\n",
       "      <td>0.803771</td>\n",
       "      <td>0.943798</td>\n",
       "    </tr>\n",
       "    <tr>\n",
       "      <th>4</th>\n",
       "      <td>0.616628</td>\n",
       "      <td>0.788657</td>\n",
       "      <td>0.802232</td>\n",
       "      <td>0.941245</td>\n",
       "    </tr>\n",
       "  </tbody>\n",
       "</table>\n",
       "</div>"
      ],
      "text/plain": [
       "   test accuracy  test AUC  train accuracy  train AUC\n",
       "0       0.610000  0.777132        0.801616   0.940811\n",
       "1       0.604615  0.782135        0.794497   0.940638\n",
       "2       0.609700  0.774742        0.802424   0.942799\n",
       "3       0.604311  0.783039        0.803771   0.943798\n",
       "4       0.616628  0.788657        0.802232   0.941245"
      ]
     },
     "execution_count": 457,
     "metadata": {},
     "output_type": "execute_result"
    }
   ],
   "source": [
    "#runs Kfold on KNN\n",
    "knNeighbour = k_fold_eval(KNeighborsClassifier(n_neighbors = 4, metric = \"manhattan\"))\n",
    "knNeighbour"
   ]
  },
  {
   "cell_type": "code",
   "execution_count": 458,
   "id": "e9a0d041",
   "metadata": {},
   "outputs": [
    {
     "data": {
      "text/html": [
       "<div>\n",
       "<style scoped>\n",
       "    .dataframe tbody tr th:only-of-type {\n",
       "        vertical-align: middle;\n",
       "    }\n",
       "\n",
       "    .dataframe tbody tr th {\n",
       "        vertical-align: top;\n",
       "    }\n",
       "\n",
       "    .dataframe thead th {\n",
       "        text-align: right;\n",
       "    }\n",
       "</style>\n",
       "<table border=\"1\" class=\"dataframe\">\n",
       "  <thead>\n",
       "    <tr style=\"text-align: right;\">\n",
       "      <th></th>\n",
       "      <th>test accuracy</th>\n",
       "      <th>test AUC</th>\n",
       "      <th>train accuracy</th>\n",
       "      <th>train AUC</th>\n",
       "    </tr>\n",
       "  </thead>\n",
       "  <tbody>\n",
       "    <tr>\n",
       "      <th>0</th>\n",
       "      <td>0.566923</td>\n",
       "      <td>0.709084</td>\n",
       "      <td>0.588801</td>\n",
       "      <td>0.733718</td>\n",
       "    </tr>\n",
       "    <tr>\n",
       "      <th>1</th>\n",
       "      <td>0.556923</td>\n",
       "      <td>0.712741</td>\n",
       "      <td>0.583991</td>\n",
       "      <td>0.734729</td>\n",
       "    </tr>\n",
       "    <tr>\n",
       "      <th>2</th>\n",
       "      <td>0.555812</td>\n",
       "      <td>0.716570</td>\n",
       "      <td>0.581955</td>\n",
       "      <td>0.731644</td>\n",
       "    </tr>\n",
       "    <tr>\n",
       "      <th>3</th>\n",
       "      <td>0.568129</td>\n",
       "      <td>0.709560</td>\n",
       "      <td>0.568873</td>\n",
       "      <td>0.729069</td>\n",
       "    </tr>\n",
       "    <tr>\n",
       "      <th>4</th>\n",
       "      <td>0.567360</td>\n",
       "      <td>0.702984</td>\n",
       "      <td>0.588880</td>\n",
       "      <td>0.733250</td>\n",
       "    </tr>\n",
       "  </tbody>\n",
       "</table>\n",
       "</div>"
      ],
      "text/plain": [
       "   test accuracy  test AUC  train accuracy  train AUC\n",
       "0       0.566923  0.709084        0.588801   0.733718\n",
       "1       0.556923  0.712741        0.583991   0.734729\n",
       "2       0.555812  0.716570        0.581955   0.731644\n",
       "3       0.568129  0.709560        0.568873   0.729069\n",
       "4       0.567360  0.702984        0.588880   0.733250"
      ]
     },
     "execution_count": 458,
     "metadata": {},
     "output_type": "execute_result"
    }
   ],
   "source": [
    "#runs Kfold on AdaBoost\n",
    "adaBoost = k_fold_eval(AdaBoostClassifier(n_estimators =100, learning_rate= 0.8, random_state = 42))\n",
    "adaBoost"
   ]
  },
  {
   "cell_type": "code",
   "execution_count": 460,
   "id": "b2eb8eb0",
   "metadata": {},
   "outputs": [
    {
     "data": {
      "text/html": [
       "<div>\n",
       "<style scoped>\n",
       "    .dataframe tbody tr th:only-of-type {\n",
       "        vertical-align: middle;\n",
       "    }\n",
       "\n",
       "    .dataframe tbody tr th {\n",
       "        vertical-align: top;\n",
       "    }\n",
       "\n",
       "    .dataframe thead th {\n",
       "        text-align: right;\n",
       "    }\n",
       "</style>\n",
       "<table border=\"1\" class=\"dataframe\">\n",
       "  <thead>\n",
       "    <tr style=\"text-align: right;\">\n",
       "      <th></th>\n",
       "      <th>test accuracy</th>\n",
       "      <th>test AUC</th>\n",
       "      <th>train accuracy</th>\n",
       "      <th>train AUC</th>\n",
       "    </tr>\n",
       "  </thead>\n",
       "  <tbody>\n",
       "    <tr>\n",
       "      <th>0</th>\n",
       "      <td>0.580000</td>\n",
       "      <td>None</td>\n",
       "      <td>0.636136</td>\n",
       "      <td>None</td>\n",
       "    </tr>\n",
       "    <tr>\n",
       "      <th>1</th>\n",
       "      <td>0.598462</td>\n",
       "      <td>None</td>\n",
       "      <td>0.625553</td>\n",
       "      <td>None</td>\n",
       "    </tr>\n",
       "    <tr>\n",
       "      <th>2</th>\n",
       "      <td>0.584296</td>\n",
       "      <td>None</td>\n",
       "      <td>0.627934</td>\n",
       "      <td>None</td>\n",
       "    </tr>\n",
       "    <tr>\n",
       "      <th>3</th>\n",
       "      <td>0.579677</td>\n",
       "      <td>None</td>\n",
       "      <td>0.624663</td>\n",
       "      <td>None</td>\n",
       "    </tr>\n",
       "    <tr>\n",
       "      <th>4</th>\n",
       "      <td>0.591994</td>\n",
       "      <td>None</td>\n",
       "      <td>0.628896</td>\n",
       "      <td>None</td>\n",
       "    </tr>\n",
       "  </tbody>\n",
       "</table>\n",
       "</div>"
      ],
      "text/plain": [
       "   test accuracy test AUC  train accuracy train AUC\n",
       "0       0.580000     None        0.636136      None\n",
       "1       0.598462     None        0.625553      None\n",
       "2       0.584296     None        0.627934      None\n",
       "3       0.579677     None        0.624663      None\n",
       "4       0.591994     None        0.628896      None"
      ]
     },
     "execution_count": 460,
     "metadata": {},
     "output_type": "execute_result"
    }
   ],
   "source": [
    "#runs Kfold on SVM\n",
    "SVMmodel = k_fold_eval(SVC(kernel = \"poly\", probability = True, random_state = 42), svm =True)\n",
    "SVMmodel "
   ]
  },
  {
   "cell_type": "code",
   "execution_count": 465,
   "id": "d345f58b",
   "metadata": {},
   "outputs": [
    {
     "data": {
      "text/html": [
       "<div>\n",
       "<style scoped>\n",
       "    .dataframe tbody tr th:only-of-type {\n",
       "        vertical-align: middle;\n",
       "    }\n",
       "\n",
       "    .dataframe tbody tr th {\n",
       "        vertical-align: top;\n",
       "    }\n",
       "\n",
       "    .dataframe thead th {\n",
       "        text-align: right;\n",
       "    }\n",
       "</style>\n",
       "<table border=\"1\" class=\"dataframe\">\n",
       "  <thead>\n",
       "    <tr style=\"text-align: right;\">\n",
       "      <th></th>\n",
       "      <th>Random Forest mean</th>\n",
       "      <th>Random Forest s.d.</th>\n",
       "      <th>KNN mean</th>\n",
       "      <th>KNN s.d.</th>\n",
       "      <th>adaBoost mean</th>\n",
       "      <th>adaBoost s.d.</th>\n",
       "      <th>SVMmean</th>\n",
       "      <th>SVM s.d.</th>\n",
       "    </tr>\n",
       "  </thead>\n",
       "  <tbody>\n",
       "    <tr>\n",
       "      <th>test accuracy</th>\n",
       "      <td>0.719720</td>\n",
       "      <td>0.010479</td>\n",
       "      <td>0.609051</td>\n",
       "      <td>0.005022</td>\n",
       "      <td>0.563029</td>\n",
       "      <td>0.006109</td>\n",
       "      <td>0.586886</td>\n",
       "      <td>0.008158</td>\n",
       "    </tr>\n",
       "    <tr>\n",
       "      <th>test AUC</th>\n",
       "      <td>0.887103</td>\n",
       "      <td>0.006163</td>\n",
       "      <td>0.781141</td>\n",
       "      <td>0.005434</td>\n",
       "      <td>0.710188</td>\n",
       "      <td>0.005019</td>\n",
       "      <td>NaN</td>\n",
       "      <td>NaN</td>\n",
       "    </tr>\n",
       "    <tr>\n",
       "      <th>train accuracy</th>\n",
       "      <td>0.999923</td>\n",
       "      <td>0.000105</td>\n",
       "      <td>0.800908</td>\n",
       "      <td>0.003669</td>\n",
       "      <td>0.582500</td>\n",
       "      <td>0.008195</td>\n",
       "      <td>0.628636</td>\n",
       "      <td>0.004530</td>\n",
       "    </tr>\n",
       "    <tr>\n",
       "      <th>train AUC</th>\n",
       "      <td>1.000000</td>\n",
       "      <td>0.000000</td>\n",
       "      <td>0.941858</td>\n",
       "      <td>0.001379</td>\n",
       "      <td>0.732482</td>\n",
       "      <td>0.002209</td>\n",
       "      <td>NaN</td>\n",
       "      <td>NaN</td>\n",
       "    </tr>\n",
       "  </tbody>\n",
       "</table>\n",
       "</div>"
      ],
      "text/plain": [
       "                Random Forest mean  Random Forest s.d.  KNN mean  KNN s.d.  \\\n",
       "test accuracy             0.719720            0.010479  0.609051  0.005022   \n",
       "test AUC                  0.887103            0.006163  0.781141  0.005434   \n",
       "train accuracy            0.999923            0.000105  0.800908  0.003669   \n",
       "train AUC                 1.000000            0.000000  0.941858  0.001379   \n",
       "\n",
       "                adaBoost mean  adaBoost s.d.   SVMmean  SVM s.d.  \n",
       "test accuracy        0.563029       0.006109  0.586886  0.008158  \n",
       "test AUC             0.710188       0.005019       NaN       NaN  \n",
       "train accuracy       0.582500       0.008195  0.628636  0.004530  \n",
       "train AUC            0.732482       0.002209       NaN       NaN  "
      ]
     },
     "execution_count": 465,
     "metadata": {},
     "output_type": "execute_result"
    }
   ],
   "source": [
    "#Evaluation is colapped into one dataframe\n",
    "pd.DataFrame(data = {\"Random Forest mean\":randomForest.mean(), \"Random Forest s.d.\":randomForest.std(),\n",
    "                    \"KNN mean\":knNeighbour.mean(), \"KNN s.d.\":knNeighbour.std(),\n",
    "                    \"adaBoost mean\":adaBoost.mean(), \"adaBoost s.d.\":adaBoost.std(),\n",
    "                    \"SVMmean\":SVMmodel .mean(), \"SVM s.d.\":SVMmodel .std(),})"
   ]
  }
 ],
 "metadata": {
  "kernelspec": {
   "display_name": "Python 3 (ipykernel)",
   "language": "python",
   "name": "python3"
  },
  "language_info": {
   "codemirror_mode": {
    "name": "ipython",
    "version": 3
   },
   "file_extension": ".py",
   "mimetype": "text/x-python",
   "name": "python",
   "nbconvert_exporter": "python",
   "pygments_lexer": "ipython3",
   "version": "3.8.6rc1"
  }
 },
 "nbformat": 4,
 "nbformat_minor": 5
}
